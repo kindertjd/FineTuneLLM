{
  "cells": [
    {
      "cell_type": "markdown",
      "metadata": {
        "id": "view-in-github",
        "colab_type": "text"
      },
      "source": [
        "<a href=\"https://colab.research.google.com/github/kindertjd/FineTuneLLM/blob/main/module-4/research-assistant.ipynb\" target=\"_parent\"><img src=\"https://colab.research.google.com/assets/colab-badge.svg\" alt=\"Open In Colab\"/></a>"
      ]
    },
    {
      "cell_type": "markdown",
      "id": "7a5c2153",
      "metadata": {
        "id": "7a5c2153"
      },
      "source": [
        "[![Open in Colab](https://colab.research.google.com/assets/colab-badge.svg)](https://colab.research.google.com/github/langchain-ai/langchain-academy/blob/main/module-4/research-assistant.ipynb) [![Open in LangChain Academy](https://cdn.prod.website-files.com/65b8cd72835ceeacd4449a53/66e9eba12c7b7688aa3dbb5e_LCA-badge-green.svg)](https://academy.langchain.com/courses/take/intro-to-langgraph/lessons/58239974-lesson-4-research-assistant)"
      ]
    },
    {
      "cell_type": "markdown",
      "id": "e0a5763f-5f45-4b8f-b3e2-480f46c5721b",
      "metadata": {
        "id": "e0a5763f-5f45-4b8f-b3e2-480f46c5721b"
      },
      "source": [
        "# Research Assistant\n",
        "\n",
        "## Review\n",
        "\n",
        "We've covered a few major LangGraph themes:\n",
        "\n",
        "* Memory\n",
        "* Human-in-the-loop\n",
        "* Controllability\n",
        "\n",
        "Now, we'll bring these ideas together to tackle one of AI's most popular applications: research automation.\n",
        "\n",
        "Research is often laborious work offloaded to analysts. AI has considerable potential to assist with this.\n",
        "\n",
        "However, research demands customization: raw LLM outputs are often poorly suited for real-world decision-making workflows.\n",
        "\n",
        "Customized, AI-based [research and report generation](https://jxnl.co/writing/2024/06/05/predictions-for-the-future-of-rag/#reports-over-rag) workflows are a promising way to address this.\n",
        "\n",
        "## Goal\n",
        "\n",
        "Our goal is to build a lightweight, multi-agent system around chat models that customizes the research process.\n",
        "\n",
        "`Source Selection`\n",
        "* Users can choose any set of input sources for their research.\n",
        "  \n",
        "`Planning`\n",
        "* Users provide a topic, and the system generates a team of AI analysts, each focusing on one sub-topic.\n",
        "* `Human-in-the-loop` will be used to refine these sub-topics before research begins.\n",
        "  \n",
        "`LLM Utilization`\n",
        "* Each analyst will conduct in-depth interviews with an expert AI using the selected sources.\n",
        "* The interview will be a multi-turn conversation to extract detailed insights as shown in the [STORM](https://github.com/langchain-ai/langgraph/blob/main/examples/storm/storm.ipynb) paper.\n",
        "* These interviews will be captured in a using `sub-graphs` with their internal state.\n",
        "   \n",
        "`Research Process`\n",
        "* Experts will gather information to answer analyst questions in `parallel`.\n",
        "* And all interviews will be conducted simultaneously through `map-reduce`.\n",
        "\n",
        "`Output Format`\n",
        "* The gathered insights from each interview will be synthesized into a final report.\n",
        "* We'll use customizable prompts for the report, allowing for a flexible output format.\n",
        "\n",
        "![Screenshot 2024-08-26 at 7.26.33 PM.png](https://cdn.prod.website-files.com/65b8cd72835ceeacd4449a53/66dbb164d61c93d48e604091_research-assistant1.png)"
      ]
    },
    {
      "cell_type": "code",
      "execution_count": 1,
      "id": "f23991e9-51b3-4e9f-86a0-dec16aa7d1e6",
      "metadata": {
        "scrolled": true,
        "id": "f23991e9-51b3-4e9f-86a0-dec16aa7d1e6"
      },
      "outputs": [],
      "source": [
        "%%capture --no-stderr\n",
        "%pip install --quiet -U langgraph langchain_openai langchain_community langchain_core tavily-python wikipedia"
      ]
    },
    {
      "cell_type": "markdown",
      "id": "99a1c01d-87e1-4723-b83e-ebcf937fe914",
      "metadata": {
        "id": "99a1c01d-87e1-4723-b83e-ebcf937fe914"
      },
      "source": [
        "## Setup"
      ]
    },
    {
      "cell_type": "code",
      "execution_count": 3,
      "id": "ba917800-10e4-4e2a-8e9e-30893b731e97",
      "metadata": {
        "id": "ba917800-10e4-4e2a-8e9e-30893b731e97"
      },
      "outputs": [],
      "source": [
        "import os, getpass\n",
        "\n",
        "def _set_env(var: str):\n",
        "    if not os.environ.get(var):\n",
        "        os.environ[var] = getpass.getpass(f\"{var}: \")\n",
        "\n",
        "_set_env(\"OPENAI_API_KEY\")\n"
      ]
    },
    {
      "cell_type": "code",
      "execution_count": 4,
      "id": "afe9ff57-0826-4669-b88b-4d0501a509f5",
      "metadata": {
        "id": "afe9ff57-0826-4669-b88b-4d0501a509f5"
      },
      "outputs": [],
      "source": [
        "from langchain_openai import ChatOpenAI\n",
        "llm = ChatOpenAI(model=\"gpt-4o\", temperature=0)"
      ]
    },
    {
      "cell_type": "markdown",
      "id": "3419257b-2c6b-4d68-ae38-4a266cc02982",
      "metadata": {
        "id": "3419257b-2c6b-4d68-ae38-4a266cc02982"
      },
      "source": [
        "We'll use [LangSmith](https://docs.smith.langchain.com/) for [tracing](https://docs.smith.langchain.com/concepts/tracing)."
      ]
    },
    {
      "cell_type": "code",
      "execution_count": 6,
      "id": "5102cf2e-0ca9-465b-9499-67abb8132e5d",
      "metadata": {
        "id": "5102cf2e-0ca9-465b-9499-67abb8132e5d"
      },
      "outputs": [],
      "source": [
        "\n",
        "_set_env(\"LANGSMITH_API_KEY\")\n",
        "os.environ[\"LANGSMITH_TRACING\"] = \"true\"\n",
        "os.environ[\"LANGSMITH_PROJECT\"] = \"langchain-DEMO\""
      ]
    },
    {
      "cell_type": "markdown",
      "id": "f8fe5d93-e353-44bb-be3e-434654bcb7ea",
      "metadata": {
        "id": "f8fe5d93-e353-44bb-be3e-434654bcb7ea"
      },
      "source": [
        "## Generate Analysts: Human-In-The-Loop\n",
        "\n",
        "Create analysts and review them using human-in-the-loop."
      ]
    },
    {
      "cell_type": "code",
      "execution_count": 7,
      "id": "1eee8e60-e548-49b1-88ec-a4f3aef2174e",
      "metadata": {
        "id": "1eee8e60-e548-49b1-88ec-a4f3aef2174e"
      },
      "outputs": [],
      "source": [
        "from typing import List\n",
        "from typing_extensions import TypedDict\n",
        "from pydantic import BaseModel, Field\n",
        "\n",
        "class Analyst(BaseModel):\n",
        "    affiliation: str = Field(\n",
        "        description=\"Primary affiliation of the analyst.\",\n",
        "    )\n",
        "    name: str = Field(\n",
        "        description=\"Name of the analyst.\"\n",
        "    )\n",
        "    role: str = Field(\n",
        "        description=\"Role of the analyst in the context of the topic.\",\n",
        "    )\n",
        "    description: str = Field(\n",
        "        description=\"Description of the analyst focus, concerns, and motives.\",\n",
        "    )\n",
        "    @property\n",
        "    def persona(self) -> str:\n",
        "        return f\"Name: {self.name}\\nRole: {self.role}\\nAffiliation: {self.affiliation}\\nDescription: {self.description}\\n\"\n",
        "\n",
        "class Perspectives(BaseModel):\n",
        "    analysts: List[Analyst] = Field(\n",
        "        description=\"Comprehensive list of analysts with their roles and affiliations.\",\n",
        "    )\n",
        "\n",
        "class GenerateAnalystsState(TypedDict):\n",
        "    topic: str # Research topic\n",
        "    max_analysts: int # Number of analysts\n",
        "    human_analyst_feedback: str # Human feedback\n",
        "    analysts: List[Analyst] # Analyst asking questions"
      ]
    },
    {
      "cell_type": "code",
      "execution_count": 16,
      "id": "fd088ff5-4c75-412c-85f0-04afd0900bfc",
      "metadata": {
        "id": "fd088ff5-4c75-412c-85f0-04afd0900bfc",
        "outputId": "c7530276-6823-4484-ab8f-fdb590fd5a48",
        "colab": {
          "base_uri": "https://localhost:8080/",
          "height": 392
        }
      },
      "outputs": [
        {
          "output_type": "display_data",
          "data": {
            "image/png": "[encoded data removed]",
            "text/plain": [
              "<IPython.core.display.Image object>"
            ]
          },
          "metadata": {}
        }
      ],
      "source": [
        "from IPython.display import Image, display\n",
        "from langgraph.graph import START, END, StateGraph\n",
        "from langgraph.checkpoint.memory import MemorySaver\n",
        "from langchain_core.messages import AIMessage, HumanMessage, SystemMessage\n",
        "\n",
        "analyst_instructions=\"\"\"You are tasked with creating a set of AI analyst personas. Follow these instructions carefully:\n",
        "\n",
        "1. First, review the research topic:\n",
        "{topic}\n",
        "\n",
        "2. Examine any editorial feedback that has been optionally provided to guide creation of the analysts:\n",
        "\n",
        "{human_analyst_feedback}\n",
        "\n",
        "3. Determine the most interesting themes based upon documents and / or feedback above.\n",
        "\n",
        "4. Pick the top {max_analysts} themes.\n",
        "\n",
        "5. Assign one analyst to each theme.\"\"\"\n",
        "\n",
        "def create_analysts(state: GenerateAnalystsState):\n",
        "\n",
        "    \"\"\" Create analysts \"\"\"\n",
        "\n",
        "    topic=state['topic']\n",
        "    max_analysts=state['max_analysts']\n",
        "    human_analyst_feedback=state.get('human_analyst_feedback', '')\n",
        "\n",
        "    # Enforce structured output\n",
        "    structured_llm = llm.with_structured_output(Perspectives)\n",
        "\n",
        "    # System message\n",
        "    system_message = analyst_instructions.format(topic=topic,\n",
        "                                                            human_analyst_feedback=human_analyst_feedback,\n",
        "                                                            max_analysts=max_analysts)\n",
        "\n",
        "    # Generate question\n",
        "    analysts = structured_llm.invoke([SystemMessage(content=system_message)]+[HumanMessage(content=\"Generate the set of analysts.\")])\n",
        "\n",
        "    # Write the list of analysis to state\n",
        "    return {\"analysts\": analysts.analysts}\n",
        "\n",
        "def human_feedback(state: GenerateAnalystsState):\n",
        "    \"\"\" No-op node that should be interrupted on \"\"\"\n",
        "    pass\n",
        "\n",
        "def should_continue(state: GenerateAnalystsState):\n",
        "    \"\"\" Return the next node to execute \"\"\"\n",
        "\n",
        "    # Check if human feedback\n",
        "    human_analyst_feedback=state.get('human_analyst_feedback', None)\n",
        "    if human_analyst_feedback:\n",
        "        return \"create_analysts\"\n",
        "\n",
        "    # Otherwise end\n",
        "    return END\n",
        "\n",
        "# Add nodes and edges\n",
        "builder = StateGraph(GenerateAnalystsState)\n",
        "builder.add_node(\"create_analysts\", create_analysts)\n",
        "builder.add_node(\"human_feedback\", human_feedback)\n",
        "builder.add_edge(START, \"create_analysts\")\n",
        "builder.add_edge(\"create_analysts\", \"human_feedback\")\n",
        "builder.add_conditional_edges(\"human_feedback\", should_continue, [\"create_analysts\",END])\n",
        "\n",
        "\n",
        "# Compile\n",
        "memory = MemorySaver()\n",
        "graph = builder.compile(interrupt_before=['human_feedback'], checkpointer=memory)\n",
        "\n",
        "# View\n",
        "display(Image(graph.get_graph(xray=1).draw_mermaid_png()))"
      ]
    },
    {
      "cell_type": "code",
      "execution_count": 40,
      "id": "6c22cb05-c436-4358-8f7a-72d722f9b5cc",
      "metadata": {
        "id": "6c22cb05-c436-4358-8f7a-72d722f9b5cc",
        "outputId": "feaad441-7f9e-42ea-b575-f00cf3c1a573",
        "colab": {
          "base_uri": "https://localhost:8080/"
        }
      },
      "outputs": [
        {
          "output_type": "stream",
          "name": "stdout",
          "text": [
            "Name: Dr. Emily Carter\n",
            "Affiliation: International Tennis Federation\n",
            "Role: Child Development Specialist\n",
            "Description: Dr. Emily Carter focuses on the developmental stages of children and how early exposure to sports can influence their future potential. Her primary concern is ensuring that the child’s physical and mental development is balanced and that the pressure to excel does not hinder their natural growth. She advocates for a supportive environment that encourages a love for the sport rather than a focus solely on competitive success.\n",
            "--------------------------------------------------\n",
            "Name: Dr. Emily Carter\n",
            "Affiliation: International Tennis Federation\n",
            "Role: Child Development Specialist\n",
            "Description: Dr. Emily Carter focuses on the developmental stages of children and how early exposure to sports can influence their future potential. She is particularly interested in how parents can nurture a child's interest and skills in tennis from a young age, ensuring a balance between physical training and mental well-being.\n",
            "--------------------------------------------------\n"
          ]
        }
      ],
      "source": [
        "# Input\n",
        "max_analysts = 1\n",
        "topic = \"What to do now as parent to make a 5 years old a future tennis star\"\n",
        "thread = {\"configurable\": {\"thread_id\": \"1\"}}\n",
        "\n",
        "# Run the graph until the first interruption\n",
        "for event in graph.stream({\"topic\":topic,\"max_analysts\":max_analysts,}, thread, stream_mode=\"values\"):\n",
        "    # Review\n",
        "    analysts = event.get('analysts', '')\n",
        "    if analysts:\n",
        "        for analyst in analysts:\n",
        "            print(f\"Name: {analyst.name}\")\n",
        "            print(f\"Affiliation: {analyst.affiliation}\")\n",
        "            print(f\"Role: {analyst.role}\")\n",
        "            print(f\"Description: {analyst.description}\")\n",
        "            print(\"-\" * 50)"
      ]
    },
    {
      "cell_type": "code",
      "execution_count": 20,
      "id": "2f81ad23-5656-43e6-b50a-0d7a4f69a60a",
      "metadata": {
        "id": "2f81ad23-5656-43e6-b50a-0d7a4f69a60a",
        "outputId": "2f5b7b1d-26c8-49c1-f2bb-e6a44770bd44",
        "colab": {
          "base_uri": "https://localhost:8080/"
        }
      },
      "outputs": [
        {
          "output_type": "execute_result",
          "data": {
            "text/plain": [
              "('human_feedback',)"
            ]
          },
          "metadata": {},
          "execution_count": 20
        }
      ],
      "source": [
        "# Get state and look at next node\n",
        "state = graph.get_state(thread)\n",
        "state.next"
      ]
    },
    {
      "cell_type": "code",
      "execution_count": 21,
      "id": "72b2a402-fd10-4f26-9a32-3e3c0d4aaf76",
      "metadata": {
        "id": "72b2a402-fd10-4f26-9a32-3e3c0d4aaf76",
        "outputId": "5c654a35-3c48-44b2-e3fe-91712120b401",
        "colab": {
          "base_uri": "https://localhost:8080/"
        }
      },
      "outputs": [
        {
          "output_type": "execute_result",
          "data": {
            "text/plain": [
              "{'configurable': {'thread_id': '1',\n",
              "  'checkpoint_ns': '',\n",
              "  'checkpoint_id': '1f036458-d257-6e5b-8002-21e2d4a7a581'}}"
            ]
          },
          "metadata": {},
          "execution_count": 21
        }
      ],
      "source": [
        "# We now update the state as if we are the human_feedback node\n",
        "graph.update_state(thread, {\"human_analyst_feedback\":\n",
        "                            \"Add in someone from a professional tennis to add an sport athlete perspective\"}, as_node=\"human_feedback\")"
      ]
    },
    {
      "cell_type": "code",
      "execution_count": 22,
      "id": "b8816eb9-9906-441b-b552-be71107db14f",
      "metadata": {
        "id": "b8816eb9-9906-441b-b552-be71107db14f",
        "outputId": "16e1f444-8c9c-4e34-f322-c2740c8e6121",
        "colab": {
          "base_uri": "https://localhost:8080/"
        }
      },
      "outputs": [
        {
          "output_type": "stream",
          "name": "stdout",
          "text": [
            "Name: Dr. Emily Carter\n",
            "Affiliation: International Tennis Federation\n",
            "Role: Child Development Specialist\n",
            "Description: Dr. Carter focuses on the psychological and emotional development of young athletes. She is concerned with ensuring that the child enjoys the sport and develops a healthy relationship with competition. Her motive is to promote a balanced approach to training that supports mental well-being and long-term passion for tennis.\n",
            "--------------------------------------------------\n",
            "Name: Coach Mark Thompson\n",
            "Affiliation: USTA Player Development\n",
            "Role: Youth Tennis Coach\n",
            "Description: Coach Thompson is dedicated to the technical and tactical development of young tennis players. He emphasizes the importance of foundational skills and early exposure to the sport. His concern is to create a structured yet fun training environment that fosters skill acquisition and a love for the game.\n",
            "--------------------------------------------------\n",
            "Name: Dr. Sarah Lin\n",
            "Affiliation: Sports Nutrition Association\n",
            "Role: Sports Nutritionist\n",
            "Description: Dr. Lin specializes in the nutritional needs of young athletes. She is focused on educating parents about the importance of a balanced diet to support physical growth and athletic performance. Her motive is to ensure that young tennis players receive the necessary nutrients to fuel their training and recovery.\n",
            "--------------------------------------------------\n",
            "Name: Dr. James Patel\n",
            "Affiliation: Youth Sports Psychology Institute\n",
            "Role: Sports Psychologist\n",
            "Description: Dr. Patel works on the mental resilience and focus of young athletes. He is concerned with developing mental toughness and coping strategies for competition. His motive is to equip young tennis players with the psychological tools needed to handle the pressures of competitive sports.\n",
            "--------------------------------------------------\n",
            "Name: Dr. Emily Carter\n",
            "Affiliation: Child Development Institute\n",
            "Role: Child Psychologist\n",
            "Description: Dr. Carter focuses on the psychological and emotional development of children. She is concerned with ensuring that the child’s interest in tennis is nurtured in a healthy way, without undue pressure, and that the child’s overall well-being is prioritized. Her motive is to provide guidance on how to balance training with a child’s natural development and interests.\n",
            "--------------------------------------------------\n",
            "Name: Coach Alex Thompson\n",
            "Affiliation: National Tennis Academy\n",
            "Role: Tennis Coach\n",
            "Description: Coach Thompson is a seasoned tennis coach with experience in training young athletes. He is focused on the technical and physical aspects of developing a young tennis player, including the importance of foundational skills, physical conditioning, and the right training regimen. His motive is to ensure that the child develops the necessary skills and discipline to excel in tennis.\n",
            "--------------------------------------------------\n",
            "Name: Dr. Sarah Lin\n",
            "Affiliation: University of Sports Science\n",
            "Role: Sports Scientist\n",
            "Description: Dr. Lin specializes in the physical development and biomechanics of young athletes. She is concerned with the physical health and injury prevention of children engaged in sports. Her motive is to provide insights into how parents can support their child’s physical development in a way that enhances performance while minimizing the risk of injury.\n",
            "--------------------------------------------------\n",
            "Name: Serena Williams\n",
            "Affiliation: Professional Tennis Circuit\n",
            "Role: Professional Tennis Player\n",
            "Description: Serena Williams brings a wealth of experience from her career as a professional tennis player. She focuses on the real-world challenges and opportunities of pursuing a career in tennis, including the importance of mental toughness, the role of family support, and the realities of the professional circuit. Her motive is to offer a realistic perspective on what it takes to become a tennis star and how parents can best support their child’s aspirations.\n",
            "--------------------------------------------------\n"
          ]
        }
      ],
      "source": [
        "# Continue the graph execution\n",
        "for event in graph.stream(None, thread, stream_mode=\"values\"):\n",
        "    # Review\n",
        "    analysts = event.get('analysts', '')\n",
        "    if analysts:\n",
        "        for analyst in analysts:\n",
        "            print(f\"Name: {analyst.name}\")\n",
        "            print(f\"Affiliation: {analyst.affiliation}\")\n",
        "            print(f\"Role: {analyst.role}\")\n",
        "            print(f\"Description: {analyst.description}\")\n",
        "            print(\"-\" * 50)"
      ]
    },
    {
      "cell_type": "code",
      "execution_count": 27,
      "id": "a43ac322-5926-4932-8653-68206fec0d2c",
      "metadata": {
        "id": "a43ac322-5926-4932-8653-68206fec0d2c",
        "outputId": "5a10acb8-007d-4a17-b9ae-df802c146499",
        "colab": {
          "base_uri": "https://localhost:8080/"
        }
      },
      "outputs": [
        {
          "output_type": "execute_result",
          "data": {
            "text/plain": [
              "{'configurable': {'thread_id': '1',\n",
              "  'checkpoint_ns': '',\n",
              "  'checkpoint_id': '1f036467-16a7-6b5e-8005-cce0c91653d6'}}"
            ]
          },
          "metadata": {},
          "execution_count": 27
        }
      ],
      "source": [
        "# If we are satisfied, then we simply supply no feedback\n",
        "further_feedack = None\n",
        "graph.update_state(thread, {\"human_analyst_feedback\":\n",
        "                            further_feedack}, as_node=\"human_feedback\")"
      ]
    },
    {
      "cell_type": "code",
      "execution_count": 43,
      "id": "ab034e65-aeee-4723-8d6d-74541b548425",
      "metadata": {
        "id": "ab034e65-aeee-4723-8d6d-74541b548425"
      },
      "outputs": [],
      "source": [
        "# Continue the graph execution to end\n",
        "for event in graph.stream(None, thread, stream_mode=\"updates\"):\n",
        "    print(\"--Node--\")\n",
        "    node_name = next(iter(event.keys()))\n",
        "    print(node_name)"
      ]
    },
    {
      "cell_type": "code",
      "execution_count": 36,
      "id": "2f204e8a-285c-4e46-8223-a695caec7764",
      "metadata": {
        "id": "2f204e8a-285c-4e46-8223-a695caec7764"
      },
      "outputs": [],
      "source": [
        "final_state = graph.get_state(thread)\n",
        "analysts = final_state.values.get('analysts')"
      ]
    },
    {
      "cell_type": "code",
      "execution_count": 44,
      "id": "59704086-cb3b-42e9-8395-37be6f0d44e9",
      "metadata": {
        "id": "59704086-cb3b-42e9-8395-37be6f0d44e9",
        "outputId": "d7474af3-4512-4b47-f13e-f9ce6615dd0b",
        "colab": {
          "base_uri": "https://localhost:8080/"
        }
      },
      "outputs": [
        {
          "output_type": "execute_result",
          "data": {
            "text/plain": [
              "()"
            ]
          },
          "metadata": {},
          "execution_count": 44
        }
      ],
      "source": [
        "final_state.next"
      ]
    },
    {
      "cell_type": "code",
      "execution_count": 45,
      "id": "95717ba3-aa00-48d6-bbb7-5fe4db5919bf",
      "metadata": {
        "id": "95717ba3-aa00-48d6-bbb7-5fe4db5919bf",
        "outputId": "408d205b-7ce8-45ae-9f93-f2514d688fbf",
        "colab": {
          "base_uri": "https://localhost:8080/"
        }
      },
      "outputs": [
        {
          "output_type": "stream",
          "name": "stdout",
          "text": [
            "Name: Dr. Emily Carter\n",
            "Affiliation: International Tennis Federation\n",
            "Role: Child Development Specialist\n",
            "Description: Dr. Emily Carter focuses on the developmental stages of children and how early exposure to sports can influence their future potential. She is particularly interested in how parents can nurture a child's interest and skills in tennis from a young age, ensuring a balance between physical training and mental well-being.\n",
            "--------------------------------------------------\n"
          ]
        }
      ],
      "source": [
        "for analyst in analysts:\n",
        "    print(f\"Name: {analyst.name}\")\n",
        "    print(f\"Affiliation: {analyst.affiliation}\")\n",
        "    print(f\"Role: {analyst.role}\")\n",
        "    print(f\"Description: {analyst.description}\")\n",
        "    print(\"-\" * 50)"
      ]
    },
    {
      "cell_type": "markdown",
      "id": "7d2498e4-20ae-4503-9dd0-a4165132b7a7",
      "metadata": {
        "id": "7d2498e4-20ae-4503-9dd0-a4165132b7a7"
      },
      "source": [
        "## Conduct Interview\n",
        "\n",
        "### Generate Question\n",
        "\n",
        "The analyst will ask questions to the expert."
      ]
    },
    {
      "cell_type": "code",
      "execution_count": 86,
      "id": "e5d5f559-f42e-442b-87cd-dbf0a91abf9c",
      "metadata": {
        "id": "e5d5f559-f42e-442b-87cd-dbf0a91abf9c"
      },
      "outputs": [],
      "source": [
        "import operator\n",
        "from typing import  Annotated\n",
        "from langgraph.graph import MessagesState\n",
        "\n",
        "class InterviewState(MessagesState):\n",
        "    max_num_turns: int # Number turns of conversation\n",
        "    context: Annotated[list, operator.add] # Source docs\n",
        "    analyst: Analyst # Analyst asking questions\n",
        "    interview: str # Interview transcript\n",
        "    sections: list # Final key we duplicate in outer state for Send() API\n",
        "\n",
        "class SearchQuery(BaseModel):\n",
        "    search_query: str = Field(None, description=\"Search query for retrieval.\")"
      ]
    },
    {
      "cell_type": "code",
      "execution_count": 87,
      "id": "1c2e71eb-07ad-4bea-aabc-dbaf551408c0",
      "metadata": {
        "id": "1c2e71eb-07ad-4bea-aabc-dbaf551408c0"
      },
      "outputs": [],
      "source": [
        "question_instructions = \"\"\"You are an analyst tasked with interviewing an expert to learn about a specific topic.\n",
        "\n",
        "Your goal is boil down to interesting and specific insights related to your topic.\n",
        "\n",
        "1. Interesting: Insights that people will find surprising or non-obvious.\n",
        "\n",
        "2. Specific: Insights that avoid generalities and include specific examples from the expert.\n",
        "\n",
        "Here is your topic of focus and set of goals: {goals}\n",
        "\n",
        "Begin by introducing yourself using a name that fits your persona, and then ask your question.\n",
        "\n",
        "Continue to ask questions to drill down and refine your understanding of the topic.\n",
        "\n",
        "When you are satisfied with your understanding, complete the interview with: \"Thank you so much for your help!\"\n",
        "\n",
        "Remember to stay in character throughout your response, reflecting the persona and goals provided to you.\"\"\"\n",
        "\n",
        "def generate_question(state: InterviewState):\n",
        "    \"\"\" Node to generate a question \"\"\"\n",
        "\n",
        "    # Get state\n",
        "    analyst = state[\"analyst\"]\n",
        "    messages = state[\"messages\"]\n",
        "\n",
        "    # Generate question\n",
        "    system_message = question_instructions.format(goals=analyst.persona)\n",
        "    question = llm.invoke([SystemMessage(content=system_message)]+messages)\n",
        "\n",
        "    # Write messages to state\n",
        "    return {\"messages\": [question]}"
      ]
    },
    {
      "cell_type": "markdown",
      "id": "be2ff33a-6232-4a79-8a82-882a645394f5",
      "metadata": {
        "id": "be2ff33a-6232-4a79-8a82-882a645394f5"
      },
      "source": [
        "### Generate Answer: Parallelization\n",
        "\n",
        "The expert will gather information from multiple sources in parallel to answer questions.\n",
        "\n",
        "For example, we can use:\n",
        "\n",
        "* Specific web sites e.g., via [`WebBaseLoader`](https://python.langchain.com/v0.2/docs/integrations/document_loaders/web_base/)\n",
        "* Indexed documents e.g., via [RAG](https://python.langchain.com/v0.2/docs/tutorials/rag/)\n",
        "* Web search\n",
        "* Wikipedia search\n",
        "\n",
        "You can try different web search tools, like [Tavily](https://tavily.com/)."
      ]
    },
    {
      "cell_type": "code",
      "execution_count": 88,
      "id": "606ea95b-e811-4299-8b66-835d4016c338",
      "metadata": {
        "id": "606ea95b-e811-4299-8b66-835d4016c338"
      },
      "outputs": [],
      "source": [
        "def _set_env(var: str):\n",
        "    if not os.environ.get(var):\n",
        "        os.environ[var] = getpass.getpass(f\"{var}: \")\n",
        "\n",
        "_set_env(\"TAVILY_API_KEY\")"
      ]
    },
    {
      "cell_type": "code",
      "execution_count": 89,
      "id": "c61ae74a-f838-4e97-8bd5-48ccd15b7789",
      "metadata": {
        "id": "c61ae74a-f838-4e97-8bd5-48ccd15b7789"
      },
      "outputs": [],
      "source": [
        "# Web search tool\n",
        "from langchain_community.tools.tavily_search import TavilySearchResults\n",
        "tavily_search = TavilySearchResults(max_results=3)"
      ]
    },
    {
      "cell_type": "code",
      "execution_count": 90,
      "id": "2d8f760b-5a1a-4fa9-a014-d3fb02bec51c",
      "metadata": {
        "id": "2d8f760b-5a1a-4fa9-a014-d3fb02bec51c"
      },
      "outputs": [],
      "source": [
        "# Wikipedia search tool\n",
        "from langchain_community.document_loaders import WikipediaLoader"
      ]
    },
    {
      "cell_type": "markdown",
      "id": "06cb1603",
      "metadata": {
        "id": "06cb1603"
      },
      "source": [
        "Now, we create nodes to search the web and wikipedia.\n",
        "\n",
        "We'll also create a node to answer analyst questions.\n",
        "\n",
        "Finally, we'll create nodes to save the full interview and to write a summary (\"section\") of the interview."
      ]
    },
    {
      "cell_type": "code",
      "execution_count": 91,
      "id": "9c863768-2278-415b-aef1-96fd18c1b1cb",
      "metadata": {
        "id": "9c863768-2278-415b-aef1-96fd18c1b1cb",
        "outputId": "39b7e25e-b0f2-4e60-ac1a-306eaf6cecda",
        "colab": {
          "base_uri": "https://localhost:8080/",
          "height": 647
        }
      },
      "outputs": [
        {
          "output_type": "display_data",
          "data": {
            "image/png": "[encoded data removed]",
            "text/plain": [
              "<IPython.core.display.Image object>"
            ]
          },
          "metadata": {}
        }
      ],
      "source": [
        "from langchain_core.messages import get_buffer_string\n",
        "\n",
        "# Search query writing\n",
        "search_instructions = SystemMessage(content=f\"\"\"You will be given a conversation between an analyst and an expert.\n",
        "\n",
        "Your goal is to generate a well-structured query for use in retrieval and / or web-search related to the conversation.\n",
        "\n",
        "First, analyze the full conversation.\n",
        "\n",
        "Pay particular attention to the final question posed by the analyst.\n",
        "\n",
        "Convert this final question into a well-structured web search query\"\"\")\n",
        "\n",
        "def search_web(state: InterviewState):\n",
        "\n",
        "    \"\"\" Retrieve docs from web search \"\"\"\n",
        "\n",
        "    # Search query\n",
        "    structured_llm = llm.with_structured_output(SearchQuery)\n",
        "    search_query = structured_llm.invoke([search_instructions]+state['messages'])\n",
        "\n",
        "    # Search\n",
        "    search_docs = tavily_search.invoke(search_query.search_query)\n",
        "\n",
        "     # Format\n",
        "    formatted_search_docs = \"\\n\\n---\\n\\n\".join(\n",
        "        [\n",
        "            f'<Document href=\"{doc[\"url\"]}\"/>\\n{doc[\"content\"]}\\n</Document>'\n",
        "            for doc in search_docs\n",
        "        ]\n",
        "    )\n",
        "\n",
        "    return {\"context\": [formatted_search_docs]}\n",
        "\n",
        "def search_wikipedia(state: InterviewState):\n",
        "\n",
        "    \"\"\" Retrieve docs from wikipedia \"\"\"\n",
        "\n",
        "    # Search query\n",
        "    structured_llm = llm.with_structured_output(SearchQuery)\n",
        "    search_query = structured_llm.invoke([search_instructions]+state['messages'])\n",
        "\n",
        "    # Search\n",
        "    search_docs = WikipediaLoader(query=search_query.search_query,\n",
        "                                  load_max_docs=2).load()\n",
        "\n",
        "     # Format\n",
        "    formatted_search_docs = \"\\n\\n---\\n\\n\".join(\n",
        "        [\n",
        "            f'<Document source=\"{doc.metadata[\"source\"]}\" page=\"{doc.metadata.get(\"page\", \"\")}\"/>\\n{doc.page_content}\\n</Document>'\n",
        "            for doc in search_docs\n",
        "        ]\n",
        "    )\n",
        "\n",
        "    return {\"context\": [formatted_search_docs]}\n",
        "\n",
        "answer_instructions = \"\"\"You are an expert being interviewed by an analyst.\n",
        "\n",
        "Here is analyst area of focus: {goals}.\n",
        "\n",
        "You goal is to answer a question posed by the interviewer.\n",
        "\n",
        "To answer question, use this context:\n",
        "\n",
        "{context}\n",
        "\n",
        "When answering questions, follow these guidelines:\n",
        "\n",
        "1. Use only the information provided in the context.\n",
        "\n",
        "2. Do not introduce external information or make assumptions beyond what is explicitly stated in the context.\n",
        "\n",
        "3. The context contain sources at the topic of each individual document.\n",
        "\n",
        "4. Include these sources your answer next to any relevant statements. For example, for source # 1 use [1].\n",
        "\n",
        "5. List your sources in order at the bottom of your answer. [1] Source 1, [2] Source 2, etc\n",
        "\n",
        "6. If the source is: <Document source=\"assistant/docs/llama3_1.pdf\" page=\"7\"/>' then just list:\n",
        "\n",
        "[1] assistant/docs/llama3_1.pdf, page 7\n",
        "\n",
        "And skip the addition of the brackets as well as the Document source preamble in your citation.\"\"\"\n",
        "\n",
        "def generate_answer(state: InterviewState):\n",
        "\n",
        "    \"\"\" Node to answer a question \"\"\"\n",
        "\n",
        "    # Get state\n",
        "    analyst = state[\"analyst\"]\n",
        "    messages = state[\"messages\"]\n",
        "    context = state[\"context\"]\n",
        "\n",
        "    # Answer question\n",
        "    system_message = answer_instructions.format(goals=analyst.persona, context=context)\n",
        "    answer = llm.invoke([SystemMessage(content=system_message)]+messages)\n",
        "\n",
        "    # Name the message as coming from the expert\n",
        "    answer.name = \"expert\"\n",
        "\n",
        "    # Append it to state\n",
        "    return {\"messages\": [answer]}\n",
        "\n",
        "def save_interview(state: InterviewState):\n",
        "\n",
        "    \"\"\" Save interviews \"\"\"\n",
        "\n",
        "    # Get messages\n",
        "    messages = state[\"messages\"]\n",
        "\n",
        "    # Convert interview to a string\n",
        "    interview = get_buffer_string(messages)\n",
        "\n",
        "    # Save to interviews key\n",
        "    return {\"interview\": interview}\n",
        "\n",
        "def route_messages(state: InterviewState,\n",
        "                   name: str = \"expert\"):\n",
        "\n",
        "    \"\"\" Route between question and answer \"\"\"\n",
        "\n",
        "    # Get messages\n",
        "    messages = state[\"messages\"]\n",
        "    max_num_turns = state.get('max_num_turns',2)\n",
        "\n",
        "    # Check the number of expert answers\n",
        "    num_responses = len(\n",
        "        [m for m in messages if isinstance(m, AIMessage) and m.name == name]\n",
        "    )\n",
        "\n",
        "    # End if expert has answered more than the max turns\n",
        "    if num_responses >= max_num_turns:\n",
        "        return 'save_interview'\n",
        "\n",
        "    # This router is run after each question - answer pair\n",
        "    # Get the last question asked to check if it signals the end of discussion\n",
        "    last_question = messages[-2]\n",
        "\n",
        "    if \"Thank you so much for your help\" in last_question.content:\n",
        "        return 'save_interview'\n",
        "    return \"ask_question\"\n",
        "\n",
        "section_writer_instructions = \"\"\"You are an expert technical writer.\n",
        "\n",
        "Your task is to create a short, easily digestible section of a report based on a set of source documents.\n",
        "\n",
        "1. Analyze the content of the source documents:\n",
        "- The name of each source document is at the start of the document, with the <Document tag.\n",
        "\n",
        "2. Create a report structure using markdown formatting:\n",
        "- Use ## for the section title\n",
        "- Use ### for sub-section headers\n",
        "\n",
        "3. Write the report following this structure:\n",
        "a. Title (## header)\n",
        "b. Summary (### header)\n",
        "c. Sources (### header)\n",
        "\n",
        "4. Make your title engaging based upon the focus area of the analyst:\n",
        "{focus}\n",
        "\n",
        "5. For the summary section:\n",
        "- Set up summary with general background / context related to the focus area of the analyst\n",
        "- Emphasize what is novel, interesting, or surprising about insights gathered from the interview\n",
        "- Create a numbered list of source documents, as you use them\n",
        "- Do not mention the names of interviewers or experts\n",
        "- Aim for approximately 400 words maximum\n",
        "- Use numbered sources in your report (e.g., [1], [2]) based on information from source documents\n",
        "\n",
        "6. In the Sources section:\n",
        "- Include all sources used in your report\n",
        "- Provide full links to relevant websites or specific document paths\n",
        "- Separate each source by a newline. Use two spaces at the end of each line to create a newline in Markdown.\n",
        "- It will look like:\n",
        "\n",
        "### Sources\n",
        "[1] Link or Document name\n",
        "[2] Link or Document name\n",
        "\n",
        "7. Be sure to combine sources. For example this is not correct:\n",
        "\n",
        "[3] https://ai.meta.com/blog/meta-llama-3-1/\n",
        "[4] https://ai.meta.com/blog/meta-llama-3-1/\n",
        "\n",
        "There should be no redundant sources. It should simply be:\n",
        "\n",
        "[3] https://ai.meta.com/blog/meta-llama-3-1/\n",
        "\n",
        "8. Final review:\n",
        "- Ensure the report follows the required structure\n",
        "- Include no preamble before the title of the report\n",
        "- Check that all guidelines have been followed\"\"\"\n",
        "\n",
        "def write_section(state: InterviewState):\n",
        "\n",
        "    \"\"\" Node to answer a question \"\"\"\n",
        "\n",
        "    # Get state\n",
        "    interview = state[\"interview\"]\n",
        "    context = state[\"context\"]\n",
        "    analyst = state[\"analyst\"]\n",
        "\n",
        "    # Write section using either the gathered source docs from interview (context) or the interview itself (interview)\n",
        "    system_message = section_writer_instructions.format(focus=analyst.description)\n",
        "    section = llm.invoke([SystemMessage(content=system_message)]+[HumanMessage(content=f\"Use this source to write your section: {context}\")])\n",
        "\n",
        "    # Append it to state\n",
        "    return {\"sections\": [section.content]}\n",
        "\n",
        "# Add nodes and edges\n",
        "interview_builder = StateGraph(InterviewState)\n",
        "interview_builder.add_node(\"ask_question\", generate_question)\n",
        "interview_builder.add_node(\"search_web\", search_web)\n",
        "interview_builder.add_node(\"search_wikipedia\", search_wikipedia)\n",
        "interview_builder.add_node(\"answer_question\", generate_answer)\n",
        "interview_builder.add_node(\"save_interview\", save_interview)\n",
        "interview_builder.add_node(\"write_section\", write_section)\n",
        "\n",
        "# Flow\n",
        "interview_builder.add_edge(START, \"ask_question\")\n",
        "interview_builder.add_edge(\"ask_question\", \"search_web\")\n",
        "interview_builder.add_edge(\"ask_question\", \"search_wikipedia\")\n",
        "interview_builder.add_edge(\"search_web\", \"answer_question\")\n",
        "interview_builder.add_edge(\"search_wikipedia\", \"answer_question\")\n",
        "interview_builder.add_conditional_edges(\"answer_question\", route_messages,['ask_question','save_interview'])\n",
        "interview_builder.add_edge(\"save_interview\", \"write_section\")\n",
        "interview_builder.add_edge(\"write_section\", END)\n",
        "\n",
        "# Interview\n",
        "memory = MemorySaver()\n",
        "interview_graph = interview_builder.compile(checkpointer=memory).with_config(run_name=\"Conduct Interviews\")\n",
        "\n",
        "# View\n",
        "display(Image(interview_graph.get_graph().draw_mermaid_png()))"
      ]
    },
    {
      "cell_type": "code",
      "execution_count": 92,
      "id": "50f382f1-6e93-48d0-a44a-1094d26ccb1e",
      "metadata": {
        "id": "50f382f1-6e93-48d0-a44a-1094d26ccb1e",
        "outputId": "a5f3eda6-5dae-4025-9d2c-9f0226dad1c9",
        "colab": {
          "base_uri": "https://localhost:8080/"
        }
      },
      "outputs": [
        {
          "output_type": "execute_result",
          "data": {
            "text/plain": [
              "Analyst(affiliation='International Tennis Federation', name='Dr. Emily Carter', role='Child Development Specialist', description=\"Dr. Emily Carter focuses on the developmental stages of children and how early exposure to sports can influence their future potential. She is particularly interested in how parents can nurture a child's interest and skills in tennis from a young age, ensuring a balance between physical training and mental well-being.\")"
            ]
          },
          "metadata": {},
          "execution_count": 92
        }
      ],
      "source": [
        "# Pick one analyst\n",
        "analysts[0]"
      ]
    },
    {
      "cell_type": "markdown",
      "id": "3750ac4f-f458-4b2d-8bad-32ce34895758",
      "metadata": {
        "id": "3750ac4f-f458-4b2d-8bad-32ce34895758"
      },
      "source": [
        "Here, we run the interview passing an index of the llama3.1 paper, which is related to our topic."
      ]
    },
    {
      "cell_type": "code",
      "execution_count": 93,
      "id": "b2242d4e-8430-4de9-8cf7-3ad2f9a22b28",
      "metadata": {
        "id": "b2242d4e-8430-4de9-8cf7-3ad2f9a22b28",
        "outputId": "b85c2632-c8a2-4845-e393-6557fa483647",
        "colab": {
          "base_uri": "https://localhost:8080/",
          "height": 523
        }
      },
      "outputs": [
        {
          "output_type": "execute_result",
          "data": {
            "text/plain": [
              "<IPython.core.display.Markdown object>"
            ],
            "text/markdown": "## Nurturing Young Tennis Enthusiasts: A Balanced Approach to Development\n\n### Summary\n\nThe developmental stages of children are crucial in shaping their future potential, particularly in sports like tennis. Early exposure to sports can significantly influence a child's interest and skills, and parents play a pivotal role in nurturing this potential. Dr. Emily Carter's focus on the balance between physical training and mental well-being in young tennis players highlights the importance of a holistic approach to development.\n\nOne of the key insights from the sources is the emphasis on developing an empathetic and knowledgeable parenting mindset. Parents are encouraged to understand the psychological demands of tennis and to adopt a values-based approach in nurturing their child's mental and emotional skills [1]. This involves working collaboratively with coaches to develop specific characteristics and skills in their children, ensuring that the focus is not solely on winning but on personal growth and self-challenge.\n\nAnother interesting aspect is the recommendation to teach young children to love tennis by focusing on coordination and motor skills rather than racquet skills initially [2]. This approach helps in building a strong foundation for future skill development while keeping the learning process enjoyable and engaging for the child.\n\nFurthermore, the role of play in child development is highlighted as a crucial element. Play is not just a pastime but a tool that aids in physical, cognitive, and social development [3]. Structured and unstructured play, including tennis games, can enhance skills such as balance, coordination, agility, and speed, which are essential for tennis [4]. These activities also foster resilience and confidence, empowering children to reach their full potential in the sport [5].\n\nIn summary, nurturing a child's interest and skills in tennis requires a balanced approach that combines physical training with mental and emotional development. Parents should focus on creating a supportive environment that encourages personal growth, resilience, and a love for the game. By doing so, they can help their children develop the skills and mindset needed to succeed in tennis and beyond.\n\n### Sources\n[1] https://www.lta.org.uk/48f191/globalassets/mental-emotional-skills-guide-a5.pdf  \n[2] https://www.reddit.com/r/10s/comments/1h6uzht/what_to_teach_fiveyearolds_about_tennis/  \n[3] https://en.wikipedia.org/wiki/Play_(activity)  \n[4] https://www.i9sports.com/blog/7-tennis-games-for-kids  \n[5] https://siliconvalleytennis.com/how-parents-can-support-their-kids-to-reach-their-full-potential-in-tennis-2/  "
          },
          "metadata": {},
          "execution_count": 93
        }
      ],
      "source": [
        "from IPython.display import Markdown\n",
        "messages = [HumanMessage(f\"So you said you were writing an article on {topic}?\")]\n",
        "thread = {\"configurable\": {\"thread_id\": \"1\"}}\n",
        "interview = interview_graph.invoke({\"analyst\": analysts[0], \"messages\": messages, \"max_num_turns\": 2}, thread)\n",
        "Markdown(interview['sections'][0])"
      ]
    },
    {
      "cell_type": "markdown",
      "id": "3b739e87-68bb-4e96-a86a-704e84240a6c",
      "metadata": {
        "id": "3b739e87-68bb-4e96-a86a-704e84240a6c"
      },
      "source": [
        "### Parallelze interviews: Map-Reduce\n",
        "\n",
        "We parallelize the interviews via the `Send()` API, a map step.\n",
        "\n",
        "We combine them into the report body in a reduce step.\n",
        "\n",
        "### Finalize\n",
        "\n",
        "We add a final step to write an intro and conclusion to the final report."
      ]
    },
    {
      "cell_type": "code",
      "execution_count": 95,
      "id": "6a0042f9-5b9f-441a-9e8d-7d8189f44140",
      "metadata": {
        "id": "6a0042f9-5b9f-441a-9e8d-7d8189f44140"
      },
      "outputs": [],
      "source": [
        "import operator\n",
        "from typing import List, Annotated\n",
        "from typing_extensions import TypedDict\n",
        "\n",
        "class ResearchGraphState(TypedDict):\n",
        "    topic: str # Research topic\n",
        "    max_analysts: int # Number of analysts\n",
        "    human_analyst_feedback: str # Human feedback\n",
        "    analysts: List[Analyst] # Analyst asking questions\n",
        "    sections: Annotated[list, operator.add] # Send() API key\n",
        "    introduction: str # Introduction for the final report\n",
        "    content: str # Content for the final report\n",
        "    conclusion: str # Conclusion for the final report\n",
        "    final_report: str # Final report"
      ]
    },
    {
      "cell_type": "code",
      "execution_count": 100,
      "id": "c2224592-d2ff-469d-97bd-928809f896d7",
      "metadata": {
        "id": "c2224592-d2ff-469d-97bd-928809f896d7",
        "outputId": "bafd8569-7c14-48b3-adc2-d20133a0276d",
        "colab": {
          "base_uri": "https://localhost:8080/",
          "height": 1000
        }
      },
      "outputs": [
        {
          "output_type": "display_data",
          "data": {
            "image/png": "[encoded data removed]",
            "text/plain": [
              "<IPython.core.display.Image object>"
            ]
          },
          "metadata": {}
        }
      ],
      "source": [
        "from langgraph.constants import Send\n",
        "\n",
        "def initiate_all_interviews(state: ResearchGraphState):\n",
        "    \"\"\" This is the \"map\" step where we run each interview sub-graph using Send API \"\"\"\n",
        "\n",
        "    # Check if human feedback\n",
        "    human_analyst_feedback=state.get('human_analyst_feedback')\n",
        "    if human_analyst_feedback:\n",
        "        # Return to create_analysts\n",
        "        return \"create_analysts\"\n",
        "\n",
        "    # Otherwise kick off interviews in parallel via Send() API\n",
        "    else:\n",
        "        topic = state[\"topic\"]\n",
        "        return [Send(\"conduct_interview\", {\"analyst\": analyst,\n",
        "                                           \"messages\": [HumanMessage(\n",
        "                                               content=f\"So you said you were writing an article on {topic}?\"\n",
        "                                           )\n",
        "                                                       ]}) for analyst in state[\"analysts\"]]\n",
        "\n",
        "report_writer_instructions = \"\"\"You are a technical writer creating a report on this overall topic:\n",
        "\n",
        "{topic}\n",
        "\n",
        "You have a team of analysts. Each analyst has done two things:\n",
        "\n",
        "1. They conducted an interview with an expert on a specific sub-topic.\n",
        "2. They write up their finding into a memo.\n",
        "\n",
        "Your task:\n",
        "\n",
        "1. You will be given a collection of memos from your analysts.\n",
        "2. Think carefully about the insights from each memo.\n",
        "3. Consolidate these into a crisp overall summary that ties together the central ideas from all of the memos.\n",
        "4. Summarize the central points in each memo into a cohesive single narrative.\n",
        "\n",
        "To format your report:\n",
        "\n",
        "1. Use markdown formatting.\n",
        "2. Include no pre-amble for the report.\n",
        "3. Use no sub-heading.\n",
        "4. Start your report with a single title header: ## Insights\n",
        "5. Do not mention any analyst names in your report.\n",
        "6. Preserve any citations in the memos, which will be annotated in brackets, for example [1] or [2].\n",
        "7. Create a final, consolidated list of sources and add to a Sources section with the `## Sources` header.\n",
        "8. List your sources in order and do not repeat.\n",
        "\n",
        "[1] Source 1\n",
        "[2] Source 2\n",
        "\n",
        "Here are the memos from your analysts to build your report from:\n",
        "\n",
        "{context}\"\"\"\n",
        "\n",
        "def write_report(state: ResearchGraphState):\n",
        "    # Full set of sections\n",
        "    sections = state[\"sections\"]\n",
        "    topic = state[\"topic\"]\n",
        "\n",
        "    # Concat all sections together\n",
        "    formatted_str_sections = \"\\n\\n\".join([f\"{section}\" for section in sections])\n",
        "\n",
        "    # Summarize the sections into a final report\n",
        "    system_message = report_writer_instructions.format(topic=topic, context=formatted_str_sections)\n",
        "    report = llm.invoke([SystemMessage(content=system_message)]+[HumanMessage(content=f\"Write a report based upon these memos.\")])\n",
        "    return {\"content\": report.content}\n",
        "\n",
        "intro_conclusion_instructions = \"\"\"You are a technical writer finishing a report on {topic}\n",
        "\n",
        "You will be given all of the sections of the report.\n",
        "\n",
        "You job is to write a crisp and compelling introduction or conclusion section.\n",
        "\n",
        "The user will instruct you whether to write the introduction or conclusion.\n",
        "\n",
        "Include no pre-amble for either section.\n",
        "\n",
        "Target around 100 words, crisply previewing (for introduction) or recapping (for conclusion) all of the sections of the report.\n",
        "\n",
        "Use markdown formatting.\n",
        "\n",
        "For your introduction, create a compelling title and use the # header for the title.\n",
        "\n",
        "For your introduction, use ## Introduction as the section header.\n",
        "\n",
        "For your conclusion, use ## Conclusion as the section header.\n",
        "\n",
        "Here are the sections to reflect on for writing: {formatted_str_sections}\"\"\"\n",
        "\n",
        "def write_introduction(state: ResearchGraphState):\n",
        "    # Full set of sections\n",
        "    sections = state[\"sections\"]\n",
        "    topic = state[\"topic\"]\n",
        "\n",
        "    # Concat all sections together\n",
        "    formatted_str_sections = \"\\n\\n\".join([f\"{section}\" for section in sections])\n",
        "\n",
        "    # Summarize the sections into a final report\n",
        "\n",
        "    instructions = intro_conclusion_instructions.format(topic=topic, formatted_str_sections=formatted_str_sections)\n",
        "    intro = llm.invoke([instructions]+[HumanMessage(content=f\"Write the report introduction\")])\n",
        "    return {\"introduction\": intro.content}\n",
        "\n",
        "def write_conclusion(state: ResearchGraphState):\n",
        "    # Full set of sections\n",
        "    sections = state[\"sections\"]\n",
        "    topic = state[\"topic\"]\n",
        "\n",
        "    # Concat all sections together\n",
        "    formatted_str_sections = \"\\n\\n\".join([f\"{section}\" for section in sections])\n",
        "\n",
        "    # Summarize the sections into a final report\n",
        "\n",
        "    instructions = intro_conclusion_instructions.format(topic=topic, formatted_str_sections=formatted_str_sections)\n",
        "    conclusion = llm.invoke([instructions]+[HumanMessage(content=f\"Write the report conclusion\")])\n",
        "    return {\"conclusion\": conclusion.content}\n",
        "\n",
        "def finalize_report(state: ResearchGraphState):\n",
        "    \"\"\" The is the \"reduce\" step where we gather all the sections, combine them, and reflect on them to write the intro/conclusion \"\"\"\n",
        "    # Save full final report\n",
        "    content = state[\"content\"]\n",
        "    if content.startswith(\"## Insights\"):\n",
        "        content = content.strip(\"## Insights\")\n",
        "    if \"## Sources\" in content:\n",
        "        try:\n",
        "            content, sources = content.split(\"\\n## Sources\\n\")\n",
        "        except:\n",
        "            sources = None\n",
        "    else:\n",
        "        sources = None\n",
        "\n",
        "    final_report = state[\"introduction\"] + \"\\n\\n---\\n\\n\" + content + \"\\n\\n---\\n\\n\" + state[\"conclusion\"]\n",
        "    if sources is not None:\n",
        "        final_report += \"\\n\\n## Sources\\n\" + sources\n",
        "    return {\"final_report\": final_report}\n",
        "\n",
        "# Add nodes and edges\n",
        "builder = StateGraph(ResearchGraphState)\n",
        "builder.add_node(\"create_analysts\", create_analysts)\n",
        "builder.add_node(\"human_feedback\", human_feedback)\n",
        "builder.add_node(\"conduct_interview\", interview_builder.compile())\n",
        "builder.add_node(\"write_report\",write_report)\n",
        "builder.add_node(\"write_introduction\",write_introduction)\n",
        "builder.add_node(\"write_conclusion\",write_conclusion)\n",
        "builder.add_node(\"finalize_report\",finalize_report)\n",
        "\n",
        "# Logic\n",
        "builder.add_edge(START, \"create_analysts\")\n",
        "builder.add_edge(\"create_analysts\", \"human_feedback\")\n",
        "builder.add_conditional_edges(\"human_feedback\", initiate_all_interviews, [\"create_analysts\", \"conduct_interview\"])\n",
        "builder.add_edge(\"conduct_interview\", \"write_report\")\n",
        "builder.add_edge(\"conduct_interview\", \"write_introduction\")\n",
        "builder.add_edge(\"conduct_interview\", \"write_conclusion\")\n",
        "builder.add_edge([\"write_conclusion\", \"write_report\", \"write_introduction\"], \"finalize_report\")\n",
        "builder.add_edge(\"finalize_report\", END)\n",
        "\n",
        "# Compile\n",
        "memory = MemorySaver()\n",
        "graph = builder.compile(interrupt_before=['human_feedback'], checkpointer=memory)\n",
        "display(Image(graph.get_graph(xray=1).draw_mermaid_png()))"
      ]
    },
    {
      "cell_type": "markdown",
      "id": "1b64ba9a-2b5e-40e1-a778-0f635aa3f6d0",
      "metadata": {
        "id": "1b64ba9a-2b5e-40e1-a778-0f635aa3f6d0"
      },
      "source": [
        "Let's ask an open-ended question about LangGraph."
      ]
    },
    {
      "cell_type": "code",
      "execution_count": 101,
      "id": "362932ee-4106-4a2d-a32d-b812eafcf9df",
      "metadata": {
        "id": "362932ee-4106-4a2d-a32d-b812eafcf9df",
        "outputId": "a00f2fb4-0b87-418c-bca7-69fc9ce0a1b3",
        "colab": {
          "base_uri": "https://localhost:8080/"
        }
      },
      "outputs": [
        {
          "output_type": "stream",
          "name": "stdout",
          "text": [
            "Name: Dr. Emily Carter\n",
            "Affiliation: Youth Sports Development Institute\n",
            "Role: Child Development Specialist\n",
            "Description: Dr. Carter focuses on the cognitive and emotional development of young children in sports. She is particularly interested in how early exposure to structured sports training can influence a child's long-term athletic potential and psychological well-being. Her work emphasizes the importance of balancing skill development with play and creativity to foster a lifelong love for the sport.\n",
            "--------------------------------------------------\n",
            "Name: Coach Rafael Martinez\n",
            "Affiliation: Elite Tennis Coaching Academy\n",
            "Role: Tennis Coaching Expert\n",
            "Description: Coach Martinez specializes in developing young tennis talent through innovative training techniques. He is dedicated to identifying and nurturing the physical and technical skills necessary for young athletes to excel in tennis. His approach includes personalized training regimens that adapt to the unique abilities and growth patterns of each child, ensuring they reach their full potential.\n",
            "--------------------------------------------------\n",
            "Name: Dr. Sarah Lin\n",
            "Affiliation: Sports Nutrition and Health Research Center\n",
            "Role: Sports Nutritionist\n",
            "Description: Dr. Lin is an expert in sports nutrition, focusing on the dietary needs of young athletes. She is concerned with how nutrition impacts physical development, energy levels, and recovery in children engaged in intensive sports training. Her research aims to provide guidelines for parents and coaches to optimize the health and performance of young tennis players through proper nutrition.\n",
            "--------------------------------------------------\n"
          ]
        }
      ],
      "source": [
        "# Inputs\n",
        "max_analysts = 3\n",
        "topic = \"How to educate a 5 years old to be a top tennis athelete like Sinner or Alcaraz\"\n",
        "thread = {\"configurable\": {\"thread_id\": \"1\"}}\n",
        "\n",
        "# Run the graph until the first interruption\n",
        "for event in graph.stream({\"topic\":topic,\n",
        "                           \"max_analysts\":max_analysts},\n",
        "                          thread,\n",
        "                          stream_mode=\"values\"):\n",
        "\n",
        "    analysts = event.get('analysts', '')\n",
        "    if analysts:\n",
        "        for analyst in analysts:\n",
        "            print(f\"Name: {analyst.name}\")\n",
        "            print(f\"Affiliation: {analyst.affiliation}\")\n",
        "            print(f\"Role: {analyst.role}\")\n",
        "            print(f\"Description: {analyst.description}\")\n",
        "            print(\"-\" * 50)"
      ]
    },
    {
      "cell_type": "code",
      "execution_count": 106,
      "id": "ac521a5f-5a4f-44f9-8af9-d05228e20882",
      "metadata": {
        "id": "ac521a5f-5a4f-44f9-8af9-d05228e20882",
        "outputId": "791add8f-189e-4128-aff5-51723957a8d7",
        "colab": {
          "base_uri": "https://localhost:8080/"
        }
      },
      "outputs": [
        {
          "output_type": "execute_result",
          "data": {
            "text/plain": [
              "{'configurable': {'thread_id': '1',\n",
              "  'checkpoint_ns': '',\n",
              "  'checkpoint_id': '1f036548-d24d-64c8-8006-7fb750ab2de4'}}"
            ]
          },
          "metadata": {},
          "execution_count": 106
        }
      ],
      "source": [
        "# We now update the state as if we are the human_feedback node\n",
        "graph.update_state(thread, {\"human_analyst_feedback\":\n",
        "                                \"Add in pro tennis athelete like Roger Federer as analysts. Roger was the world number one in ATP tour\"}, as_node=\"human_feedback\")"
      ]
    },
    {
      "cell_type": "code",
      "execution_count": 107,
      "id": "a3be311f-62ee-49e7-b037-75c53d8960a8",
      "metadata": {
        "id": "a3be311f-62ee-49e7-b037-75c53d8960a8",
        "outputId": "24c64b5f-e350-43d6-d8bb-ea60f305a432",
        "colab": {
          "base_uri": "https://localhost:8080/"
        }
      },
      "outputs": [
        {
          "output_type": "stream",
          "name": "stdout",
          "text": [
            "Name: Roger Federer\n",
            "Affiliation: Tennis Academy\n",
            "Role: Pro Tennis Athlete\n",
            "Description: Roger Federer focuses on the importance of developing a strong foundational skill set in young athletes. He emphasizes the need for a balance between technical training and fostering a love for the game. His approach is to ensure that young players enjoy the sport while gradually building their skills.\n",
            "--------------------------------------------------\n",
            "Name: Dr. Emily Carter\n",
            "Affiliation: Child Development Research Institute\n",
            "Role: Child Psychologist\n",
            "Description: Dr. Emily Carter is concerned with the psychological and emotional development of young athletes. She highlights the importance of creating a supportive environment that encourages resilience and a growth mindset. Her focus is on ensuring that the child’s mental well-being is prioritized alongside their athletic development.\n",
            "--------------------------------------------------\n",
            "Name: Professor John Smith\n",
            "Affiliation: Sports Science University\n",
            "Role: Sports Scientist\n",
            "Description: Professor John Smith examines the physical development and training methodologies suitable for young children aspiring to be top athletes. He is interested in age-appropriate training regimens that enhance physical capabilities without causing injury. His research includes optimizing training schedules to align with the natural growth and development of young athletes.\n",
            "--------------------------------------------------\n",
            "Name: Dr. Emily Carter\n",
            "Affiliation: Tennis Academy\n",
            "Role: Child Development Specialist\n",
            "Description: Dr. Emily Carter focuses on the cognitive and emotional development of young children. Her primary concern is ensuring that the training methods used for young athletes are age-appropriate and foster a love for the sport without causing burnout. She is motivated by the desire to create a balanced approach to early sports education that supports both athletic and personal growth.\n",
            "--------------------------------------------------\n",
            "Name: Roger Federer\n",
            "Affiliation: ATP Tour\n",
            "Role: Professional Tennis Consultant\n",
            "Description: Roger Federer, as a former world number one tennis player, provides insights into the professional tennis world. His focus is on the technical and strategic aspects of tennis training from a young age. He is concerned with how foundational skills and mental toughness can be developed in young athletes to prepare them for the highest levels of competition. His motivation is to share his experience and knowledge to inspire and guide the next generation of tennis champions.\n",
            "--------------------------------------------------\n",
            "Name: Dr. Michael Thompson\n",
            "Affiliation: Sports Science Institute\n",
            "Role: Sports Scientist\n",
            "Description: Dr. Michael Thompson specializes in the physical development and biomechanics of young athletes. His focus is on how to optimize physical training for young children to enhance their athletic performance while minimizing the risk of injury. He is concerned with the scientific principles behind training regimens and is motivated by the goal of advancing sports science to improve training outcomes for young tennis players.\n",
            "--------------------------------------------------\n"
          ]
        }
      ],
      "source": [
        "# Check\n",
        "for event in graph.stream(None, thread, stream_mode=\"values\"):\n",
        "    analysts = event.get('analysts', '')\n",
        "    if analysts:\n",
        "        for analyst in analysts:\n",
        "            print(f\"Name: {analyst.name}\")\n",
        "            print(f\"Affiliation: {analyst.affiliation}\")\n",
        "            print(f\"Role: {analyst.role}\")\n",
        "            print(f\"Description: {analyst.description}\")\n",
        "            print(\"-\" * 50)"
      ]
    },
    {
      "cell_type": "code",
      "execution_count": 108,
      "id": "0af41f54-88d9-4597-98b0-444c08322095",
      "metadata": {
        "id": "0af41f54-88d9-4597-98b0-444c08322095",
        "outputId": "f444a30f-ddc1-4256-f381-1d05f88a34bd",
        "colab": {
          "base_uri": "https://localhost:8080/"
        }
      },
      "outputs": [
        {
          "output_type": "execute_result",
          "data": {
            "text/plain": [
              "{'configurable': {'thread_id': '1',\n",
              "  'checkpoint_ns': '',\n",
              "  'checkpoint_id': '1f03654a-297a-695f-8008-4809d644f429'}}"
            ]
          },
          "metadata": {},
          "execution_count": 108
        }
      ],
      "source": [
        "# Confirm we are happy\n",
        "graph.update_state(thread, {\"human_analyst_feedback\":\n",
        "                            None}, as_node=\"human_feedback\")"
      ]
    },
    {
      "cell_type": "code",
      "execution_count": 109,
      "id": "37123ca7-c20b-43c1-9a71-39ba344e7ca6",
      "metadata": {
        "id": "37123ca7-c20b-43c1-9a71-39ba344e7ca6",
        "outputId": "2136f182-d496-4d70-b4fb-ce41f9653806",
        "colab": {
          "base_uri": "https://localhost:8080/"
        }
      },
      "outputs": [
        {
          "output_type": "stream",
          "name": "stdout",
          "text": [
            "--Node--\n",
            "conduct_interview\n",
            "--Node--\n",
            "conduct_interview\n",
            "--Node--\n",
            "conduct_interview\n",
            "--Node--\n",
            "write_conclusion\n",
            "--Node--\n",
            "write_introduction\n",
            "--Node--\n",
            "write_report\n",
            "--Node--\n",
            "finalize_report\n"
          ]
        }
      ],
      "source": [
        "# Continue\n",
        "for event in graph.stream(None, thread, stream_mode=\"updates\"):\n",
        "    print(\"--Node--\")\n",
        "    node_name = next(iter(event.keys()))\n",
        "    print(node_name)"
      ]
    },
    {
      "cell_type": "code",
      "execution_count": 110,
      "id": "f8f66ad8-80fd-4eb2-96b6-6ae9dffd060c",
      "metadata": {
        "id": "f8f66ad8-80fd-4eb2-96b6-6ae9dffd060c",
        "outputId": "5d101f26-fc3a-4552-adb6-298f8d983acc",
        "colab": {
          "base_uri": "https://localhost:8080/",
          "height": 1000
        }
      },
      "outputs": [
        {
          "output_type": "execute_result",
          "data": {
            "text/plain": [
              "<IPython.core.display.Markdown object>"
            ],
            "text/markdown": "# How to Educate a 5-Year-Old to Be a Top Tennis Athlete Like Sinner or Alcaraz\n\n## Introduction\n\nIn the quest to nurture the next generation of tennis champions, understanding the unique needs of young athletes is paramount. This report delves into the multifaceted approach required to educate a five-year-old to excel in tennis, drawing inspiration from stars like Jannik Sinner and Carlos Alcaraz. We explore the importance of a balanced approach to early sports education, emphasizing cognitive and emotional development alongside physical training. Insights from Roger Federer highlight foundational skills and mental toughness, while Dr. Michael Thompson's expertise in biomechanics and injury prevention offers strategies to optimize training. Together, these elements form a comprehensive guide to fostering both athletic prowess and personal growth in young tennis players.\n\n---\n\n\n\nEducating a five-year-old to become a top tennis athlete like Sinner or Alcaraz requires a multifaceted approach that balances physical, cognitive, and emotional development. The insights from experts highlight the importance of age-appropriate training methods, foundational skills, mental toughness, and injury prevention strategies.\n\nAt the core of early sports education is the need to foster a love for tennis while preventing burnout. This involves engaging children in activities that enhance their physical health, such as improving hand-eye coordination, agility, and balance [2]. Sports participation also plays a crucial role in social and emotional development, teaching teamwork, sportsmanship, and communication [2]. Parents and coaches are pivotal in nurturing a child's mental and emotional skills by adopting a values-based approach that emphasizes empathy and understanding of the psychological demands of sports [3]. Providing young athletes with choices in their training can empower them and prevent burnout [4].\n\nRoger Federer emphasizes the importance of developing foundational skills and mental toughness. Physical conditioning, including core strength exercises, speed drills, and flexibility training, is essential for young athletes [1]. These exercises educate young players on good functional biomechanics, crucial for injury prevention. Footwork drills, such as suicides and jumping rope, improve agility and coordination, laying the groundwork for advanced techniques [3]. Mental toughness is equally important, with young players learning to cope with competition pressures and developing resilience through mindfulness techniques and constructive feedback [4][5].\n\nOptimizing training for young tennis players involves a comprehensive approach that integrates biomechanics and kinesiology principles. Proper biomechanical assessments can prevent injuries and optimize performance by ensuring efficient body function [1]. Despite the importance of biomechanics, there is a lack of interventional studies on junior elite players, highlighting the need for evidence-based training programs [2]. Specific biomechanical evaluations, such as the Serve Efficiency Rating (SER) and Injury Risk Assessment (IRA), provide valuable metrics for improving performance and reducing injury risks [2]. Strength and conditioning programs targeting muscular imbalances, along with plyometric exercises and agility drills, are crucial for developing explosive power and coordination [3][4]. Kinesiology principles, such as adaptation through exercise, enhance fitness and neuromotor control, reducing injury risks and improving performance [5].\n\nIn conclusion, educating a young child to become a top tennis athlete involves a balanced approach that combines age-appropriate training, parental involvement, foundational skills development, mental resilience, and injury prevention strategies. By focusing on both athletic and personal growth, young athletes can develop a lifelong love for tennis and achieve success in the competitive world of sports.\n\n\n---\n\n## Conclusion\n\nIn nurturing a five-year-old to become a top tennis athlete like Sinner or Alcaraz, a balanced approach to early sports education is essential. This report highlights the importance of age-appropriate training that supports both athletic and personal growth, emphasizing the role of parents and coaches in fostering a positive sports environment. Roger Federer's insights underscore the need for foundational skills and mental toughness, while Dr. Michael Thompson's focus on biomechanics and injury prevention offers a scientific basis for optimizing training. By integrating these elements, young athletes can develop a lifelong love for tennis, achieve peak performance, and minimize injury risks.\n\n## Sources\n[1] https://itfcoachingreview.com/index.php/journal/article/view/310/885  \n[2] https://rtninsurance.com/blog/tennis-basics/tennis-drills-for-5-year-olds  \n[3] https://www.lta.org.uk/48f191/globalassets/mental-emotional-skills-guide-a5.pdf  \n[4] https://idahoyouthsports.com/burnout-prevention-strategies-for-coaches-parents-and-athletes  \n[5] https://siliconvalleytennis.com/essential-training-for-young-tennis-players/  \n[6] https://en.wikipedia.org/wiki/Kinesiology  \n[7] https://www.quora.com/Tennis-how-to-teach-footwork-to-5-7-year-olds  \n[8] https://www.usta.com/en/home/stay-current/eastern/how-junior-tennis-players-can-improve-their-mental-strength.html  \n[9] https://siliconvalleytennis.com/helping-young-players-improve-their-mental-game-in-tennis/  \n[10] https://www.honsbergerphysio.com/blog/Tennis-Biomechanics~18967.html  \n[11] https://med.emory.edu/departments/orthopaedics/_documents/tennis-player-comprehensive-care-emory-2020_compressed.pdf  \n[12] https://www.researchgate.net/publication/232195360_Common_Injuries_in_Tennis_Players_Exercises_to_Address_Muscular_Imbalances_and_Reduce_Injury_Risk"
          },
          "metadata": {},
          "execution_count": 110
        }
      ],
      "source": [
        "from IPython.display import Markdown\n",
        "final_state = graph.get_state(thread)\n",
        "report = final_state.values.get('final_report')\n",
        "Markdown(report)"
      ]
    },
    {
      "cell_type": "markdown",
      "id": "e9bf8edd-fb42-496c-9bdb-3f5d7b4d79d3",
      "metadata": {
        "id": "e9bf8edd-fb42-496c-9bdb-3f5d7b4d79d3"
      },
      "source": [
        "We can look at the trace:\n",
        "\n",
        "https://smith.langchain.com/public/2933a7bb-bcef-4d2d-9b85-cc735b22ca0c/r"
      ]
    },
    {
      "cell_type": "code",
      "execution_count": null,
      "id": "808bd094",
      "metadata": {
        "id": "808bd094"
      },
      "outputs": [],
      "source": []
    }
  ],
  "metadata": {
    "kernelspec": {
      "display_name": "Python 3 (ipykernel)",
      "language": "python",
      "name": "python3"
    },
    "language_info": {
      "codemirror_mode": {
        "name": "ipython",
        "version": 3
      },
      "file_extension": ".py",
      "mimetype": "text/x-python",
      "name": "python",
      "nbconvert_exporter": "python",
      "pygments_lexer": "ipython3",
      "version": "3.11.8"
    },
    "colab": {
      "provenance": [],
      "include_colab_link": true
    }
  },
  "nbformat": 4,
  "nbformat_minor": 5
}